{
 "cells": [
  {
   "cell_type": "markdown",
   "id": "69f8aba3",
   "metadata": {},
   "source": [
    "## calculation of production rate"
   ]
  },
  {
   "cell_type": "markdown",
   "id": "92fbeba6",
   "metadata": {},
   "source": [
    "### q=K*A*delp/miu*L"
   ]
  },
  {
   "cell_type": "code",
   "execution_count": 3,
   "id": "9fd4b4c8",
   "metadata": {},
   "outputs": [
    {
     "name": "stdout",
     "output_type": "stream",
     "text": [
      "Enter the permeabiity : 4\n",
      "Enter the Area : 5\n",
      "Enter the Pressure difference  : 99\n",
      "Enter the Viscosity : 6\n",
      "Enter the Length : 55\n"
     ]
    },
    {
     "data": {
      "text/plain": [
       "'flow rate will be 6.0 cm3/sec'"
      ]
     },
     "execution_count": 3,
     "metadata": {},
     "output_type": "execute_result"
    }
   ],
   "source": [
    "K=float(input(\"Enter the permeabiity : \"))\n",
    "A=float(input(\"Enter the Area : \"))\n",
    "delP=float(input(\"Enter the Pressure difference  : \"))\n",
    "mu=float(input(\"Enter the Viscosity : \"))\n",
    "L=float(input(\"Enter the Length : \"))\n",
    "\n",
    "def flow_rate(a,b,c,d,e):\n",
    "    return f'flow rate will be {(a*b*c)/(d*e)} cm3/sec'\n",
    "\n",
    "flow_rate(K,A,delP,mu,L)"
   ]
  },
  {
   "cell_type": "code",
   "execution_count": null,
   "id": "5c95af5e",
   "metadata": {},
   "outputs": [],
   "source": []
  }
 ],
 "metadata": {
  "kernelspec": {
   "display_name": "Python 3",
   "language": "python",
   "name": "python3"
  },
  "language_info": {
   "codemirror_mode": {
    "name": "ipython",
    "version": 3
   },
   "file_extension": ".py",
   "mimetype": "text/x-python",
   "name": "python",
   "nbconvert_exporter": "python",
   "pygments_lexer": "ipython3",
   "version": "3.8.8"
  }
 },
 "nbformat": 4,
 "nbformat_minor": 5
}
